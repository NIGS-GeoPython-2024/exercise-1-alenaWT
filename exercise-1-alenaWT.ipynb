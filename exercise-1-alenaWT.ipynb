{
 "cells": [
  {
   "cell_type": "code",
   "execution_count": 1,
   "id": "a11c6838-e0ae-4f93-9332-64b7dbc1467c",
   "metadata": {
    "tags": []
   },
   "outputs": [],
   "source": [
    "ice_cream_rating = 8\n",
    "sleeping_rating = 9"
   ]
  },
  {
   "cell_type": "code",
   "execution_count": 2,
   "id": "8e18c6d9-f4c2-4677-a7fb-3b99c57decf1",
   "metadata": {
    "tags": []
   },
   "outputs": [],
   "source": [
    "first_name = \"Alena\"\n",
    "last_name = \"Taladua\"\n",
    "my_name = first_name + \" \" + last_name"
   ]
  },
  {
   "cell_type": "code",
   "execution_count": 7,
   "id": "ddc2abe2-4cb6-4334-8aae-05481390cf07",
   "metadata": {
    "tags": []
   },
   "outputs": [],
   "source": [
    "import statistics\n",
    "happiness_rating = statistics.mean([ice_cream_rating, sleeping_rating]) "
   ]
  },
  {
   "cell_type": "code",
   "execution_count": 13,
   "id": "808b8ec4-eac5-4e77-9e85-95ffb60e67da",
   "metadata": {
    "tags": []
   },
   "outputs": [
    {
     "name": "stdout",
     "output_type": "stream",
     "text": [
      "The data type of the ratings for ice cream and sleeping, along with the first name, are: <class 'int'> ,  <class 'int'> ,  <class 'str'> , respectively.\n"
     ]
    }
   ],
   "source": [
    "print (\"The data type of the ratings for ice cream and sleeping, along with the first name, are:\",\n",
    "       type(ice_cream_rating), \", \", type(sleeping_rating), \", \", type(first_name),\n",
    "       \", respectively.\")\n",
    "       "
   ]
  },
  {
   "cell_type": "markdown",
   "id": "18c3ed9b-01b2-40c9-a6e0-51ccc5aa018d",
   "metadata": {
    "tags": []
   },
   "source": [
    "All the corresponding data types made sense."
   ]
  },
  {
   "cell_type": "code",
   "execution_count": 30,
   "id": "046d7662-8d0f-4132-86f0-683a684a44a6",
   "metadata": {
    "tags": []
   },
   "outputs": [
    {
     "name": "stdout",
     "output_type": "stream",
     "text": [
      "My name is Alena Taladua . If I would rate how much I like eating ice cream and sleeping, it would be 8 and 9 out of 10, respectively. Based on my ratings, my happiness rating is 8.5 out of 10, or 85.0 %.\n"
     ]
    }
   ],
   "source": [
    "print(\n",
    "    \"My name is\", my_name, \". If I would rate how much I like eating ice cream and sleeping, it would be\",\n",
    "    ice_cream_rating, \"and\", sleeping_rating, \"out of 10, respectively. \"\n",
    "    \"Based on my ratings, my happiness rating is\", happiness_rating, \"out of 10, or\",\n",
    "    happiness_rating*10, \"%.\"\n",
    ")"
   ]
  },
  {
   "cell_type": "code",
   "execution_count": null,
   "id": "e0b67bad-0b8d-460f-913f-b5c9199fb166",
   "metadata": {},
   "outputs": [],
   "source": []
  }
 ],
 "metadata": {
  "kernelspec": {
   "display_name": "Python 3 (ipykernel)",
   "language": "python",
   "name": "python3"
  },
  "language_info": {
   "codemirror_mode": {
    "name": "ipython",
    "version": 3
   },
   "file_extension": ".py",
   "mimetype": "text/x-python",
   "name": "python",
   "nbconvert_exporter": "python",
   "pygments_lexer": "ipython3",
   "version": "3.10.11"
  }
 },
 "nbformat": 4,
 "nbformat_minor": 5
}
